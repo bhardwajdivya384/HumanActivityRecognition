{
  "nbformat": 4,
  "nbformat_minor": 0,
  "metadata": {
    "colab": {
      "name": "Untitled4.ipynb",
      "provenance": [],
      "mount_file_id": "1PWgpO5MVRf5H9v4jVtwIfsJMWFoffVts",
      "authorship_tag": "ABX9TyPnIPoWRBXyiKQdCTZ35SB3"
    },
    "kernelspec": {
      "name": "python3",
      "display_name": "Python 3"
    }
  },
  "cells": [
    {
      "cell_type": "code",
      "metadata": {
        "id": "ARDGNwCNXeBN",
        "colab_type": "code",
        "colab": {}
      },
      "source": [
        "# importing all necessary libraries\n",
        "import numpy as np\n",
        "import pandas as pd\n",
        "import matplotlib.pyplot as plt\n",
        "import matplotlib.patches as mpatches\n",
        "\n",
        "from sklearn.decomposition import PCA\n",
        "from sklearn.preprocessing import StandardScaler\n",
        "from sklearn.model_selection import train_test_split\n",
        "from sklearn import svm\n",
        "from sklearn.metrics import confusion_matrix"
      ],
      "execution_count": 0,
      "outputs": []
    },
    {
      "cell_type": "code",
      "metadata": {
        "id": "-D-NFSZQZp-L",
        "colab_type": "code",
        "colab": {}
      },
      "source": [
        "# retrieving data from test and train files\n",
        "file_X_train='X_train.txt'\n",
        "X_train=pd.read_csv(file_X_train,header=None,sep='\\n')\n",
        "file_y_train='y_train.txt'\n",
        "y_train=pd.read_csv(file_y_train,header=None,sep='\\n')\n",
        "file_X_test='X_test.txt'\n",
        "X_test=pd.read_csv(file_X_test,header=None,sep='\\n')\n",
        "file_y_test='y_test.txt'\n",
        "y_test=pd.read_csv(file_y_test,header=None,sep='\\n')"
      ],
      "execution_count": 0,
      "outputs": []
    },
    {
      "cell_type": "code",
      "metadata": {
        "id": "hrIHsW1tc4Ix",
        "colab_type": "code",
        "colab": {
          "base_uri": "https://localhost:8080/",
          "height": 263
        },
        "outputId": "17fcd939-7856-49e0-c890-afb17016df5b"
      },
      "source": [
        "# analyzing data\n",
        "print(X_train)"
      ],
      "execution_count": 3,
      "outputs": [
        {
          "output_type": "stream",
          "text": [
            "                                                      0\n",
            "0       2.8858451e-001 -2.0294171e-002 -1.3290514e-0...\n",
            "1       2.7841883e-001 -1.6410568e-002 -1.2352019e-0...\n",
            "2       2.7965306e-001 -1.9467156e-002 -1.1346169e-0...\n",
            "3       2.7917394e-001 -2.6200646e-002 -1.2328257e-0...\n",
            "4       2.7662877e-001 -1.6569655e-002 -1.1536185e-0...\n",
            "...                                                 ...\n",
            "7347    2.9966534e-001 -5.7193414e-002 -1.8123302e-0...\n",
            "7348    2.7385271e-001 -7.7493259e-003 -1.4746837e-0...\n",
            "7349    2.7338737e-001 -1.7010616e-002 -4.5021828e-0...\n",
            "7350    2.8965416e-001 -1.8843044e-002 -1.5828059e-0...\n",
            "7351    3.5150347e-001 -1.2423118e-002 -2.0386717e-0...\n",
            "\n",
            "[7352 rows x 1 columns]\n"
          ],
          "name": "stdout"
        }
      ]
    },
    {
      "cell_type": "code",
      "metadata": {
        "id": "QNOkcFKudB-f",
        "colab_type": "code",
        "colab": {}
      },
      "source": [
        "# function process_data to split the data through columns into float values\n",
        "def process_data(df):\n",
        "    data=[]\n",
        "    for i in range(df.shape[0]):\n",
        "        t=df.iloc[i]\n",
        "        t=t[0].split()\n",
        "        z=[ float(j) for j in t]\n",
        "        data.append(z)  \n",
        "    data=np.array(data)\n",
        "    return data"
      ],
      "execution_count": 0,
      "outputs": []
    },
    {
      "cell_type": "code",
      "metadata": {
        "id": "ZBdSa2WMdSyy",
        "colab_type": "code",
        "colab": {}
      },
      "source": [
        "# processing datas\n",
        "X_train=process_data(X_train)\n",
        "X_test=process_data(X_test)\n",
        "y_train=np.array(y_train)\n",
        "y_test=np.array(y_test)\n",
        "y_train=np.ravel(y_train)\n",
        "y_test=np.ravel(y_test)"
      ],
      "execution_count": 0,
      "outputs": []
    },
    {
      "cell_type": "code",
      "metadata": {
        "id": "1J4Td1AodgPN",
        "colab_type": "code",
        "colab": {
          "base_uri": "https://localhost:8080/",
          "height": 246
        },
        "outputId": "cf35b67c-5c0f-4111-91df-71d8baa91272"
      },
      "source": [
        "print(X_train)"
      ],
      "execution_count": 6,
      "outputs": [
        {
          "output_type": "stream",
          "text": [
            "[[ 0.28858451 -0.02029417 -0.13290514 ... -0.84124676  0.17994061\n",
            "  -0.05862692]\n",
            " [ 0.27841883 -0.01641057 -0.12352019 ... -0.8447876   0.18028889\n",
            "  -0.05431672]\n",
            " [ 0.27965306 -0.01946716 -0.11346169 ... -0.84893347  0.18063731\n",
            "  -0.04911782]\n",
            " ...\n",
            " [ 0.27338737 -0.01701062 -0.04502183 ... -0.77913261  0.24914484\n",
            "   0.04081119]\n",
            " [ 0.28965416 -0.01884304 -0.15828059 ... -0.78518142  0.24643223\n",
            "   0.02533948]\n",
            " [ 0.35150347 -0.01242312 -0.20386717 ... -0.78326693  0.24680852\n",
            "   0.03669484]]\n"
          ],
          "name": "stdout"
        }
      ]
    },
    {
      "cell_type": "code",
      "metadata": {
        "id": "Ap_0z6MddjEi",
        "colab_type": "code",
        "colab": {
          "base_uri": "https://localhost:8080/",
          "height": 34
        },
        "outputId": "8aaf08f8-5bfd-41bb-b86c-2e0aa4c7cd2e"
      },
      "source": [
        "print(X_train.shape)"
      ],
      "execution_count": 7,
      "outputs": [
        {
          "output_type": "stream",
          "text": [
            "(7352, 561)\n"
          ],
          "name": "stdout"
        }
      ]
    },
    {
      "cell_type": "code",
      "metadata": {
        "id": "QrNHcFfIdn5X",
        "colab_type": "code",
        "colab": {}
      },
      "source": [
        "# standardising datas..i.e mean=0 and variance=1\n",
        "ss=StandardScaler().fit(X_train)\n",
        "X_train=ss.transform(X_train)\n",
        "X_test=ss.transform(X_test)"
      ],
      "execution_count": 0,
      "outputs": []
    },
    {
      "cell_type": "code",
      "metadata": {
        "id": "gVXFIAt3d1Ms",
        "colab_type": "code",
        "colab": {}
      },
      "source": [
        "# making a copy of datas X_tr and X_te having no of components reduced to 2\n",
        "model1=PCA(n_components=2,whiten=True)\n",
        "X_tr=model1.fit_transform(X_train)\n",
        "X_te=model1.transform(X_test)"
      ],
      "execution_count": 0,
      "outputs": []
    },
    {
      "cell_type": "code",
      "metadata": {
        "id": "ZSYMWFl4eI4p",
        "colab_type": "code",
        "colab": {}
      },
      "source": [
        "# functions for visualizing X_tr and X_te\n",
        "def legend():\n",
        "    d={}\n",
        "    d[1]='cyan'\n",
        "    d[2]='red'\n",
        "    d[3]='yellow'\n",
        "    d[4]='blue'\n",
        "    d[5]='green'\n",
        "    d[6]='purple'\n",
        "    \n",
        "    k={}\n",
        "    file='activity_labels.txt'\n",
        "    a=pd.read_csv(file,header=None)\n",
        "    for i in range(a.shape[0]):\n",
        "        t=a.iloc[i]\n",
        "        t=t[0]\n",
        "        t=t.split()\n",
        "        x,y=t\n",
        "        x=int(x)\n",
        "        k[x]=y\n",
        "        \n",
        "    return d,k"
      ],
      "execution_count": 0,
      "outputs": []
    },
    {
      "cell_type": "code",
      "metadata": {
        "id": "D438ArDIeW_x",
        "colab_type": "code",
        "colab": {}
      },
      "source": [
        "def visualize(X_train,y_train):\n",
        "    key,activity=legend()\n",
        "    \n",
        "    label_list=[]\n",
        "    for i in range(1,7):\n",
        "        x=mpatches.Patch(color=key[i], label=activity[i])\n",
        "        label_list.append(x)\n",
        "    \n",
        "    for i in range(X_train.shape[0]):\n",
        "        plt.scatter(X_train[i][1], X_train[i][0] , color=key[y_train[i]])\n",
        "        \n",
        "    plt.legend(handles=label_list)\n",
        "    plt.show()"
      ],
      "execution_count": 0,
      "outputs": []
    },
    {
      "cell_type": "code",
      "metadata": {
        "id": "rYLk8dlGelhh",
        "colab_type": "code",
        "colab": {
          "base_uri": "https://localhost:8080/",
          "height": 265
        },
        "outputId": "dc0848f7-ce02-4fbf-d0a9-174cf35d0f08"
      },
      "source": [
        "visualize(X_tr,y_train)"
      ],
      "execution_count": 15,
      "outputs": [
        {
          "output_type": "display_data",
          "data": {
            "image/png": "[encoded data removed]",
            "text/plain": [
              "<Figure size 432x288 with 1 Axes>"
            ]
          },
          "metadata": {
            "tags": []
          }
        }
      ]
    },
    {
      "cell_type": "code",
      "metadata": {
        "id": "WPNlGQXMetnK",
        "colab_type": "code",
        "colab": {
          "base_uri": "https://localhost:8080/",
          "height": 295
        },
        "outputId": "066911e0-8421-42fb-fbb7-9ce16f106f31"
      },
      "source": [
        "# now plotting no of components(int the dataset) vs variance to determine no of components for max accuracy\n",
        "pca = PCA().fit(X_train)\n",
        "plt.figure()\n",
        "plt.plot(np.cumsum(pca.explained_variance_ratio_))\n",
        "plt.xlabel('Number of Components')\n",
        "plt.ylabel('Variance (%)')\n",
        "plt.title('Human Activity Recognition Data')\n",
        "plt.show()"
      ],
      "execution_count": 16,
      "outputs": [
        {
          "output_type": "display_data",
          "data": {
            "image/png": "[encoded data removed]",
            "text/plain": [
              "<Figure size 432x288 with 1 Axes>"
            ]
          },
          "metadata": {
            "tags": []
          }
        }
      ]
    },
    {
      "cell_type": "code",
      "metadata": {
        "id": "8kNQoyeggl0a",
        "colab_type": "code",
        "colab": {}
      },
      "source": [
        "# reducing the no of components to around 220 for max accuracy with less execution time\n",
        "model=PCA(n_components=220,whiten=True)\n",
        "X_train=model.fit_transform(X_train)\n",
        "X_test=model.transform(X_test)"
      ],
      "execution_count": 0,
      "outputs": []
    },
    {
      "cell_type": "code",
      "metadata": {
        "id": "0sUvV1o0g1mU",
        "colab_type": "code",
        "colab": {
          "base_uri": "https://localhost:8080/",
          "height": 34
        },
        "outputId": "ac1b1e06-c956-410b-c829-fdfb04af175a"
      },
      "source": [
        "print(X_train.shape)"
      ],
      "execution_count": 18,
      "outputs": [
        {
          "output_type": "stream",
          "text": [
            "(7352, 220)\n"
          ],
          "name": "stdout"
        }
      ]
    },
    {
      "cell_type": "code",
      "metadata": {
        "id": "iOW3jv2ng_Op",
        "colab_type": "code",
        "colab": {}
      },
      "source": [
        "# splitting the training data to train and dev sets for lower execution time\n",
        "X_train,X_dev,y_train,y_dev=train_test_split(X_train,y_train,test_size=0.3,random_state=0)"
      ],
      "execution_count": 0,
      "outputs": []
    },
    {
      "cell_type": "code",
      "metadata": {
        "id": "J3yJj-THhJ8I",
        "colab_type": "code",
        "colab": {
          "base_uri": "https://localhost:8080/",
          "height": 87
        },
        "outputId": "fe7215ea-b8e9-4e36-dd0f-2ae891693d1e"
      },
      "source": [
        "# training model on linear kernel svm and decision_function_shape=one vs one\n",
        "model = svm.SVC(decision_function_shape='ovo',kernel='linear')\n",
        "model.fit(X_train,y_train)"
      ],
      "execution_count": 20,
      "outputs": [
        {
          "output_type": "execute_result",
          "data": {
            "text/plain": [
              "SVC(C=1.0, break_ties=False, cache_size=200, class_weight=None, coef0=0.0,\n",
              "    decision_function_shape='ovo', degree=3, gamma='scale', kernel='linear',\n",
              "    max_iter=-1, probability=False, random_state=None, shrinking=True,\n",
              "    tol=0.001, verbose=False)"
            ]
          },
          "metadata": {
            "tags": []
          },
          "execution_count": 20
        }
      ]
    },
    {
      "cell_type": "code",
      "metadata": {
        "id": "vuVTuxT-hjRg",
        "colab_type": "code",
        "colab": {
          "base_uri": "https://localhost:8080/",
          "height": 70
        },
        "outputId": "a37b542b-90fa-4b7c-a286-414495b8bbe2"
      },
      "source": [
        "# statistical analysis\n",
        "e_train=model.score(X_train,y_train)\n",
        "e_dev=model.score(X_dev,y_dev)\n",
        "e_test=model.score(X_test,y_test)\n",
        "print('Training accuracy=',e_train)\n",
        "print('Development accuracy=',e_dev)\n",
        "print('Testing accuracy=',e_test)"
      ],
      "execution_count": 21,
      "outputs": [
        {
          "output_type": "stream",
          "text": [
            "Training accuracy= 0.9957248348231637\n",
            "Development accuracy= 0.9827742520398912\n",
            "Testing accuracy= 0.9558873430607397\n"
          ],
          "name": "stdout"
        }
      ]
    },
    {
      "cell_type": "code",
      "metadata": {
        "id": "72W1GGo-iBqh",
        "colab_type": "code",
        "colab": {
          "base_uri": "https://localhost:8080/",
          "height": 140
        },
        "outputId": "9a9d7773-7f3e-40dc-9f88-08902d3a6203"
      },
      "source": [
        "print('confusion matrix for development set')\n",
        "print(confusion_matrix(y_dev,model.predict(X_dev)))"
      ],
      "execution_count": 22,
      "outputs": [
        {
          "output_type": "stream",
          "text": [
            "confusion matrix for development set\n",
            "[[361   0   0   0   0   0]\n",
            " [  0 315   0   0   0   0]\n",
            " [  1   0 279   0   0   0]\n",
            " [  0   0   0 385  21   0]\n",
            " [  0   0   0  14 395   0]\n",
            " [  0   0   0   2   0 433]]\n"
          ],
          "name": "stdout"
        }
      ]
    },
    {
      "cell_type": "code",
      "metadata": {
        "id": "lcybn8QTiPoP",
        "colab_type": "code",
        "colab": {
          "base_uri": "https://localhost:8080/",
          "height": 140
        },
        "outputId": "b5def897-3423-4c34-d44d-5e9a4abd5ce9"
      },
      "source": [
        "print('confusion matrix for test set')\n",
        "print(confusion_matrix(y_test,model.predict(X_test)))"
      ],
      "execution_count": 23,
      "outputs": [
        {
          "output_type": "stream",
          "text": [
            "confusion matrix for test set\n",
            "[[493   3   0   0   0   0]\n",
            " [ 22 449   0   0   0   0]\n",
            " [ 12   5 403   0   0   0]\n",
            " [  0   1   0 420  70   0]\n",
            " [  0   0   0  17 515   0]\n",
            " [  0   0   0   0   0 537]]\n"
          ],
          "name": "stdout"
        }
      ]
    }
  ]
}